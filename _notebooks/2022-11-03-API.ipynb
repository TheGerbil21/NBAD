{
 "cells": [
  {
   "cell_type": "markdown",
   "metadata": {},
   "source": [
    "# API Notes / Information\n",
    "- User input to whatever team they want to pick\n",
    "- A random generator that will generate a random team out of all 30 \n",
    "    - Thinking about adding more data to the API\n",
    "    - Data can consist of Championships, players, and more\n",
    "    - Here is the code of our backend API Work:"
   ]
  }
 ],
 "metadata": {
  "language_info": {
   "name": "python"
  },
  "orig_nbformat": 4
 },
 "nbformat": 4,
 "nbformat_minor": 2
}
